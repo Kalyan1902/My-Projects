{
  "nbformat": 4,
  "nbformat_minor": 0,
  "metadata": {
    "colab": {
      "provenance": [],
      "gpuType": "T4"
    },
    "kernelspec": {
      "name": "python3",
      "display_name": "Python 3"
    },
    "language_info": {
      "name": "python"
    },
    "accelerator": "GPU"
  },
  "cells": [
    {
      "cell_type": "code",
      "source": [
        "from google.colab import drive\n",
        "drive.mount('/content/drive')"
      ],
      "metadata": {
        "colab": {
          "base_uri": "https://localhost:8080/"
        },
        "id": "I49n4aZqIcm2",
        "outputId": "b4a4ef26-a764-4b8f-fd9d-6e24336d4de1"
      },
      "execution_count": null,
      "outputs": [
        {
          "output_type": "stream",
          "name": "stdout",
          "text": [
            "Mounted at /content/drive\n"
          ]
        }
      ]
    },
    {
      "cell_type": "code",
      "execution_count": null,
      "metadata": {
        "id": "kIQ_QYsQyMEH"
      },
      "outputs": [],
      "source": [
        "from keras.layers import Input,Lambda,Dense,Flatten\n",
        "from keras.models import Model\n",
        "from keras.applications.vgg16 import VGG16\n",
        "from keras.applications.vgg16 import preprocess_input\n",
        "from keras.preprocessing import image\n",
        "from keras.preprocessing.image import ImageDataGenerator\n",
        "from keras.models import Sequential\n",
        "import numpy as np\n",
        "from glob import glob\n",
        "import matplotlib.pyplot as plt\n"
      ]
    },
    {
      "cell_type": "code",
      "source": [
        "#re-sizing all the images to sizes [224,224]\n",
        "IMAZE_SIZE =[224,224]\n",
        "train_path = '/content/drive/MyDrive/tfi_train'\n",
        "valid_path ='/content/drive/MyDrive/tfi_test'\n"
      ],
      "metadata": {
        "id": "t0bvELau1gQL"
      },
      "execution_count": null,
      "outputs": []
    },
    {
      "cell_type": "code",
      "source": [
        "vgg16 = VGG16(input_shape = IMAZE_SIZE+[3],weights ='imagenet',include_top =False)\n"
      ],
      "metadata": {
        "colab": {
          "base_uri": "https://localhost:8080/"
        },
        "id": "_uoTAD_-fKlU",
        "outputId": "239bce68-24cf-4679-8569-2c4071f2f098"
      },
      "execution_count": null,
      "outputs": [
        {
          "output_type": "stream",
          "name": "stdout",
          "text": [
            "Downloading data from https://storage.googleapis.com/tensorflow/keras-applications/vgg16/vgg16_weights_tf_dim_ordering_tf_kernels_notop.h5\n",
            "58889256/58889256 [==============================] - 0s 0us/step\n"
          ]
        }
      ]
    },
    {
      "cell_type": "code",
      "source": [
        "for layer in vgg16.layers:\n",
        "  layer.trainable=False"
      ],
      "metadata": {
        "id": "-aLUXAsCfeoY"
      },
      "execution_count": null,
      "outputs": []
    },
    {
      "cell_type": "code",
      "source": [
        "#getting no.of classes\n",
        "folders = glob('/content/drive/MyDrive/tfi_train/*')\n",
        "folders\n"
      ],
      "metadata": {
        "id": "GOz6XUR0fqA0",
        "colab": {
          "base_uri": "https://localhost:8080/"
        },
        "outputId": "900d6a9f-0554-49ff-b8a1-3199e3593359"
      },
      "execution_count": null,
      "outputs": [
        {
          "output_type": "execute_result",
          "data": {
            "text/plain": [
              "['/content/drive/MyDrive/tfi_train/vijaydevarakonda',\n",
              " '/content/drive/MyDrive/tfi_train/nagchai',\n",
              " '/content/drive/MyDrive/tfi_train/prabhas',\n",
              " '/content/drive/MyDrive/tfi_train/mahesh',\n",
              " '/content/drive/MyDrive/tfi_train/ntr',\n",
              " '/content/drive/MyDrive/tfi_train/ramcharan',\n",
              " '/content/drive/MyDrive/tfi_train/alluarjun',\n",
              " '/content/drive/MyDrive/tfi_train/nani']"
            ]
          },
          "metadata": {},
          "execution_count": 6
        }
      ]
    },
    {
      "cell_type": "code",
      "source": [
        "x = Flatten()(vgg16.output)"
      ],
      "metadata": {
        "id": "cAQ_PCVkgAOW"
      },
      "execution_count": null,
      "outputs": []
    },
    {
      "cell_type": "code",
      "source": [
        "prediction =Dense(len(folders),activation ='softmax')(x)"
      ],
      "metadata": {
        "id": "L5aBzPLGgQzy"
      },
      "execution_count": null,
      "outputs": []
    },
    {
      "cell_type": "code",
      "source": [
        "model = Model(inputs =vgg16.input,outputs =prediction)\n",
        "model.summary()"
      ],
      "metadata": {
        "colab": {
          "base_uri": "https://localhost:8080/"
        },
        "id": "8NPwuP7Fgaov",
        "outputId": "b067675f-adc6-4f2f-d875-67be786cde15"
      },
      "execution_count": null,
      "outputs": [
        {
          "output_type": "stream",
          "name": "stdout",
          "text": [
            "Model: \"model\"\n",
            "_________________________________________________________________\n",
            " Layer (type)                Output Shape              Param #   \n",
            "=================================================================\n",
            " input_1 (InputLayer)        [(None, 224, 224, 3)]     0         \n",
            "                                                                 \n",
            " block1_conv1 (Conv2D)       (None, 224, 224, 64)      1792      \n",
            "                                                                 \n",
            " block1_conv2 (Conv2D)       (None, 224, 224, 64)      36928     \n",
            "                                                                 \n",
            " block1_pool (MaxPooling2D)  (None, 112, 112, 64)      0         \n",
            "                                                                 \n",
            " block2_conv1 (Conv2D)       (None, 112, 112, 128)     73856     \n",
            "                                                                 \n",
            " block2_conv2 (Conv2D)       (None, 112, 112, 128)     147584    \n",
            "                                                                 \n",
            " block2_pool (MaxPooling2D)  (None, 56, 56, 128)       0         \n",
            "                                                                 \n",
            " block3_conv1 (Conv2D)       (None, 56, 56, 256)       295168    \n",
            "                                                                 \n",
            " block3_conv2 (Conv2D)       (None, 56, 56, 256)       590080    \n",
            "                                                                 \n",
            " block3_conv3 (Conv2D)       (None, 56, 56, 256)       590080    \n",
            "                                                                 \n",
            " block3_pool (MaxPooling2D)  (None, 28, 28, 256)       0         \n",
            "                                                                 \n",
            " block4_conv1 (Conv2D)       (None, 28, 28, 512)       1180160   \n",
            "                                                                 \n",
            " block4_conv2 (Conv2D)       (None, 28, 28, 512)       2359808   \n",
            "                                                                 \n",
            " block4_conv3 (Conv2D)       (None, 28, 28, 512)       2359808   \n",
            "                                                                 \n",
            " block4_pool (MaxPooling2D)  (None, 14, 14, 512)       0         \n",
            "                                                                 \n",
            " block5_conv1 (Conv2D)       (None, 14, 14, 512)       2359808   \n",
            "                                                                 \n",
            " block5_conv2 (Conv2D)       (None, 14, 14, 512)       2359808   \n",
            "                                                                 \n",
            " block5_conv3 (Conv2D)       (None, 14, 14, 512)       2359808   \n",
            "                                                                 \n",
            " block5_pool (MaxPooling2D)  (None, 7, 7, 512)         0         \n",
            "                                                                 \n",
            " flatten (Flatten)           (None, 25088)             0         \n",
            "                                                                 \n",
            " dense (Dense)               (None, 8)                 200712    \n",
            "                                                                 \n",
            "=================================================================\n",
            "Total params: 14915400 (56.90 MB)\n",
            "Trainable params: 200712 (784.03 KB)\n",
            "Non-trainable params: 14714688 (56.13 MB)\n",
            "_________________________________________________________________\n"
          ]
        }
      ]
    },
    {
      "cell_type": "code",
      "source": [
        "#giving cost and optimization methods\n",
        "model.compile(\n",
        "    loss='categorical_crossentropy',\n",
        "    optimizer='adam',\n",
        "    metrics='accuracy'\n",
        ")"
      ],
      "metadata": {
        "id": "d8hFB0uagyvR"
      },
      "execution_count": null,
      "outputs": []
    },
    {
      "cell_type": "code",
      "source": [
        "from keras.preprocessing.image import ImageDataGenerator\n",
        "train_datagen = ImageDataGenerator(rescale =1./255,\n",
        "                                   shear_range=0.2,\n",
        "                                   zoom_range =0.2,\n",
        "                                   horizontal_flip =True)"
      ],
      "metadata": {
        "id": "o9SHAS0vhQbr"
      },
      "execution_count": null,
      "outputs": []
    },
    {
      "cell_type": "markdown",
      "source": [],
      "metadata": {
        "id": "voARxwlKuEtU"
      }
    },
    {
      "cell_type": "code",
      "source": [
        "test_datagen =ImageDataGenerator(rescale=1./255)"
      ],
      "metadata": {
        "id": "PoHg4s-rhw2L"
      },
      "execution_count": null,
      "outputs": []
    },
    {
      "cell_type": "code",
      "source": [
        "training_set =train_datagen.flow_from_directory(train_path,\n",
        "                                           target_size =(224,224),\n",
        "                                           batch_size =32,\n",
        "                                           class_mode ='categorical')"
      ],
      "metadata": {
        "colab": {
          "base_uri": "https://localhost:8080/"
        },
        "id": "h_fSm-BHh5lS",
        "outputId": "32f5e647-f590-412b-b945-949483871cfb"
      },
      "execution_count": null,
      "outputs": [
        {
          "output_type": "stream",
          "name": "stdout",
          "text": [
            "Found 1984 images belonging to 8 classes.\n"
          ]
        }
      ]
    },
    {
      "cell_type": "code",
      "source": [
        "test_set = test_datagen.flow_from_directory(valid_path,\n",
        "                                       target_size =(224,224),\n",
        "                                       batch_size =32,\n",
        "                                       class_mode ='categorical')"
      ],
      "metadata": {
        "id": "L0pwedl5iaP2",
        "colab": {
          "base_uri": "https://localhost:8080/"
        },
        "outputId": "92d91b8f-597a-4efc-c7ec-870a9d4a7913"
      },
      "execution_count": null,
      "outputs": [
        {
          "output_type": "stream",
          "name": "stdout",
          "text": [
            "Found 466 images belonging to 8 classes.\n"
          ]
        }
      ]
    },
    {
      "cell_type": "code",
      "source": [
        "r = model.fit_generator(\n",
        "    training_set,\n",
        "    validation_data =test_set,\n",
        "    epochs =5,\n",
        "    steps_per_epoch =len(training_set),\n",
        "    validation_steps=len(test_set)\n",
        ")"
      ],
      "metadata": {
        "id": "wfcF752ki40x",
        "colab": {
          "base_uri": "https://localhost:8080/"
        },
        "outputId": "e9eab000-58fa-4410-e637-db5a1d07687b"
      },
      "execution_count": null,
      "outputs": [
        {
          "output_type": "stream",
          "name": "stderr",
          "text": [
            "<ipython-input-20-e70f27ad9cf3>:1: UserWarning: `Model.fit_generator` is deprecated and will be removed in a future version. Please use `Model.fit`, which supports generators.\n",
            "  r = model.fit_generator(\n"
          ]
        },
        {
          "output_type": "stream",
          "name": "stdout",
          "text": [
            "Epoch 1/5\n",
            "62/62 [==============================] - 624s 10s/step - loss: 2.2208 - accuracy: 0.2772 - val_loss: 1.2494 - val_accuracy: 0.5472\n",
            "Epoch 2/5\n",
            "62/62 [==============================] - 43s 701ms/step - loss: 1.2534 - accuracy: 0.5570 - val_loss: 0.7722 - val_accuracy: 0.7682\n",
            "Epoch 3/5\n",
            "62/62 [==============================] - 44s 705ms/step - loss: 0.9615 - accuracy: 0.6880 - val_loss: 0.6140 - val_accuracy: 0.8433\n",
            "Epoch 4/5\n",
            "62/62 [==============================] - 44s 709ms/step - loss: 0.7494 - accuracy: 0.7500 - val_loss: 0.4210 - val_accuracy: 0.9099\n",
            "Epoch 5/5\n",
            "62/62 [==============================] - 43s 694ms/step - loss: 0.6123 - accuracy: 0.8100 - val_loss: 0.3849 - val_accuracy: 0.8906\n"
          ]
        }
      ]
    },
    {
      "cell_type": "code",
      "source": [
        "#loss\n",
        "plt.plot(r.history['loss'],label='train loss')\n",
        "plt.plot(r.history['val_loss'],label ='val loss')\n",
        "plt.legend()\n",
        "plt.show()\n",
        "plt.savefig('AccVal_acc')\n"
      ],
      "metadata": {
        "id": "RuIzV1ArjQjw",
        "colab": {
          "base_uri": "https://localhost:8080/",
          "height": 447
        },
        "outputId": "adbb20a9-effb-441c-bd91-3a23d47b1eaf"
      },
      "execution_count": null,
      "outputs": [
        {
          "output_type": "display_data",
          "data": {
            "text/plain": [
              "<Figure size 640x480 with 1 Axes>"
            ],
            "image/png": "[encoded data removed]"
          },
          "metadata": {}
        },
        {
          "output_type": "display_data",
          "data": {
            "text/plain": [
              "<Figure size 640x480 with 0 Axes>"
            ]
          },
          "metadata": {}
        }
      ]
    },
    {
      "cell_type": "code",
      "source": [
        "plt.plot(r.history['accuracy'],label='train acc')\n",
        "plt.plot(r.history['val_accuracy'],label ='val acc')\n",
        "plt.legend()\n",
        "plt.show()\n",
        "plt.savefig('AccVal_acc')"
      ],
      "metadata": {
        "colab": {
          "base_uri": "https://localhost:8080/",
          "height": 447
        },
        "id": "RmtQVxzICjq0",
        "outputId": "4d488109-93fb-44cb-cdab-603f4fe5ec27"
      },
      "execution_count": null,
      "outputs": [
        {
          "output_type": "display_data",
          "data": {
            "text/plain": [
              "<Figure size 640x480 with 1 Axes>"
            ],
            "image/png": "[encoded data removed]"
          },
          "metadata": {}
        },
        {
          "output_type": "display_data",
          "data": {
            "text/plain": [
              "<Figure size 640x480 with 0 Axes>"
            ]
          },
          "metadata": {}
        }
      ]
    },
    {
      "cell_type": "code",
      "source": [
        "import tensorflow as tf\n",
        "from keras.models import load_model\n",
        "model.save('tollywood_model.h5')"
      ],
      "metadata": {
        "id": "-Rs87MD1js54",
        "colab": {
          "base_uri": "https://localhost:8080/"
        },
        "outputId": "8ad5b26d-1dc9-44f2-af4b-de93946c1bd0"
      },
      "execution_count": null,
      "outputs": [
        {
          "output_type": "stream",
          "name": "stderr",
          "text": [
            "/usr/local/lib/python3.10/dist-packages/keras/src/engine/training.py:3103: UserWarning: You are saving your model as an HDF5 file via `model.save()`. This file format is considered legacy. We recommend using instead the native Keras format, e.g. `model.save('my_model.keras')`.\n",
            "  saving_api.save_model(\n"
          ]
        }
      ]
    },
    {
      "cell_type": "code",
      "source": [
        "from google.colab import files\n",
        "files.download('tollywood_model.h5')"
      ],
      "metadata": {
        "colab": {
          "base_uri": "https://localhost:8080/",
          "height": 34
        },
        "id": "XyQx6qP0DdFi",
        "outputId": "45142afa-0b6f-4a20-e13d-a5bf104e8a96"
      },
      "execution_count": null,
      "outputs": [
        {
          "output_type": "display_data",
          "data": {
            "text/plain": [
              "<IPython.core.display.Javascript object>"
            ],
            "application/javascript": [
              "\n",
              "    async function download(id, filename, size) {\n",
              "      if (!google.colab.kernel.accessAllowed) {\n",
              "        return;\n",
              "      }\n",
              "      const div = document.createElement('div');\n",
              "      const label = document.createElement('label');\n",
              "      label.textContent = `Downloading \"${filename}\": `;\n",
              "      div.appendChild(label);\n",
              "      const progress = document.createElement('progress');\n",
              "      progress.max = size;\n",
              "      div.appendChild(progress);\n",
              "      document.body.appendChild(div);\n",
              "\n",
              "      const buffers = [];\n",
              "      let downloaded = 0;\n",
              "\n",
              "      const channel = await google.colab.kernel.comms.open(id);\n",
              "      // Send a message to notify the kernel that we're ready.\n",
              "      channel.send({})\n",
              "\n",
              "      for await (const message of channel.messages) {\n",
              "        // Send a message to notify the kernel that we're ready.\n",
              "        channel.send({})\n",
              "        if (message.buffers) {\n",
              "          for (const buffer of message.buffers) {\n",
              "            buffers.push(buffer);\n",
              "            downloaded += buffer.byteLength;\n",
              "            progress.value = downloaded;\n",
              "          }\n",
              "        }\n",
              "      }\n",
              "      const blob = new Blob(buffers, {type: 'application/binary'});\n",
              "      const a = document.createElement('a');\n",
              "      a.href = window.URL.createObjectURL(blob);\n",
              "      a.download = filename;\n",
              "      div.appendChild(a);\n",
              "      a.click();\n",
              "      div.remove();\n",
              "    }\n",
              "  "
            ]
          },
          "metadata": {}
        },
        {
          "output_type": "display_data",
          "data": {
            "text/plain": [
              "<IPython.core.display.Javascript object>"
            ],
            "application/javascript": [
              "download(\"download_ea78b2d7-85f4-4d7d-9c21-7216c537dcdb\", \"tollywood_model.h5\", 61351392)"
            ]
          },
          "metadata": {}
        }
      ]
    },
    {
      "cell_type": "code",
      "source": [],
      "metadata": {
        "id": "-ZqTwtliEWPw"
      },
      "execution_count": null,
      "outputs": []
    }
  ]
}